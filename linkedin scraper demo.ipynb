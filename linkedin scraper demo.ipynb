{
 "cells": [
  {
   "cell_type": "code",
   "metadata": {
    "ExecuteTime": {
     "end_time": "2024-06-08T03:17:48.222124Z",
     "start_time": "2024-06-08T03:17:48.138099Z"
    }
   },
   "source": [
    "import os\n",
    "from selenium import webdriver\n",
    "from selenium.webdriver.chrome.service import Service\n",
    "from selenium.webdriver.common.by import By\n",
    "from selenium.webdriver.chrome.options import Options\n",
    "from webdriver_manager.chrome import ChromeDriverManager\n",
    "from pymongo import MongoClient\n",
    "from dotenv import load_dotenv\n",
    "import time\n",
    "from sleep_helper import SleepHelper\n"
   ],
   "outputs": [],
   "execution_count": 1
  },
  {
   "metadata": {
    "ExecuteTime": {
     "end_time": "2024-06-08T02:14:11.032955Z",
     "start_time": "2024-06-08T02:13:49.654707Z"
    }
   },
   "cell_type": "code",
   "source": "",
   "outputs": [
    {
     "name": "stdout",
     "output_type": "stream",
     "text": [
      "hello\n"
     ]
    }
   ],
   "execution_count": 101
  },
  {
   "cell_type": "code",
   "metadata": {
    "ExecuteTime": {
     "end_time": "2024-06-08T03:17:54.432647Z",
     "start_time": "2024-06-08T03:17:54.428600Z"
    }
   },
   "source": [
    "# Load environment variables from .env file\n",
    "load_dotenv()\n",
    "MONGO_DB_URL = os.getenv(\"MONGO_DB_URL\")\n",
    "\n"
   ],
   "outputs": [],
   "execution_count": 2
  },
  {
   "cell_type": "code",
   "metadata": {
    "ExecuteTime": {
     "end_time": "2024-06-08T03:17:55.856207Z",
     "start_time": "2024-06-08T03:17:55.853272Z"
    }
   },
   "source": [
    "# Setup Chrome options\n",
    "chrome_options = Options()\n",
    "# chrome_options.add_argument(\"--headless\")  # Ensure GUI is off\n",
    "chrome_options.add_argument(\"--no-sandbox\")\n",
    "chrome_options.add_argument(\"--disable-dev-shm-usage\")\n",
    "chrome_options.add_argument(\"--always-enable-hdcp\")\n",
    "\n"
   ],
   "outputs": [],
   "execution_count": 3
  },
  {
   "cell_type": "code",
   "metadata": {
    "ExecuteTime": {
     "end_time": "2024-06-08T03:18:00.839072Z",
     "start_time": "2024-06-08T03:18:00.475381Z"
    }
   },
   "source": [
    "# Set path to chromedriver as per your configuration\n",
    "webdriver_service = Service(ChromeDriverManager().install())\n"
   ],
   "outputs": [],
   "execution_count": 4
  },
  {
   "cell_type": "code",
   "metadata": {
    "ExecuteTime": {
     "end_time": "2024-06-08T03:24:30.331482Z",
     "start_time": "2024-06-08T03:24:26.481606Z"
    }
   },
   "source": [
    "# Choose Chrome Browser\n",
    "driver = webdriver.Chrome( options=chrome_options)\n"
   ],
   "outputs": [],
   "execution_count": 10
  },
  {
   "metadata": {
    "ExecuteTime": {
     "end_time": "2024-06-08T01:06:54.731800Z",
     "start_time": "2024-06-08T01:06:47.750688Z"
    }
   },
   "cell_type": "code",
   "source": "# !pip install selenium pygetwindow",
   "outputs": [
    {
     "name": "stdout",
     "output_type": "stream",
     "text": [
      "Requirement already satisfied: selenium in ./.venv/lib/python3.12/site-packages (4.21.0)\r\n",
      "Collecting pygetwindow\r\n",
      "  Downloading PyGetWindow-0.0.9.tar.gz (9.7 kB)\r\n",
      "  Installing build dependencies ... \u001B[?25ldone\r\n",
      "\u001B[?25h  Getting requirements to build wheel ... \u001B[?25ldone\r\n",
      "\u001B[?25h  Installing backend dependencies ... \u001B[?25ldone\r\n",
      "\u001B[?25h  Preparing metadata (pyproject.toml) ... \u001B[?25ldone\r\n",
      "\u001B[?25hRequirement already satisfied: urllib3<3,>=1.26 in ./.venv/lib/python3.12/site-packages (from urllib3[socks]<3,>=1.26->selenium) (2.2.1)\r\n",
      "Requirement already satisfied: trio~=0.17 in ./.venv/lib/python3.12/site-packages (from selenium) (0.25.1)\r\n",
      "Requirement already satisfied: trio-websocket~=0.9 in ./.venv/lib/python3.12/site-packages (from selenium) (0.11.1)\r\n",
      "Requirement already satisfied: certifi>=2021.10.8 in ./.venv/lib/python3.12/site-packages (from selenium) (2024.2.2)\r\n",
      "Requirement already satisfied: typing_extensions>=4.9.0 in ./.venv/lib/python3.12/site-packages (from selenium) (4.12.0)\r\n",
      "Collecting pyrect (from pygetwindow)\r\n",
      "  Downloading PyRect-0.2.0.tar.gz (17 kB)\r\n",
      "  Installing build dependencies ... \u001B[?25ldone\r\n",
      "\u001B[?25h  Getting requirements to build wheel ... \u001B[?25ldone\r\n",
      "\u001B[?25h  Installing backend dependencies ... \u001B[?25ldone\r\n",
      "\u001B[?25h  Preparing metadata (pyproject.toml) ... \u001B[?25ldone\r\n",
      "\u001B[?25hRequirement already satisfied: attrs>=23.2.0 in ./.venv/lib/python3.12/site-packages (from trio~=0.17->selenium) (23.2.0)\r\n",
      "Requirement already satisfied: sortedcontainers in ./.venv/lib/python3.12/site-packages (from trio~=0.17->selenium) (2.4.0)\r\n",
      "Requirement already satisfied: idna in ./.venv/lib/python3.12/site-packages (from trio~=0.17->selenium) (3.7)\r\n",
      "Requirement already satisfied: outcome in ./.venv/lib/python3.12/site-packages (from trio~=0.17->selenium) (1.3.0.post0)\r\n",
      "Requirement already satisfied: sniffio>=1.3.0 in ./.venv/lib/python3.12/site-packages (from trio~=0.17->selenium) (1.3.1)\r\n",
      "Requirement already satisfied: wsproto>=0.14 in ./.venv/lib/python3.12/site-packages (from trio-websocket~=0.9->selenium) (1.2.0)\r\n",
      "Requirement already satisfied: pysocks!=1.5.7,<2.0,>=1.5.6 in ./.venv/lib/python3.12/site-packages (from urllib3[socks]<3,>=1.26->selenium) (1.7.1)\r\n",
      "Requirement already satisfied: h11<1,>=0.9.0 in ./.venv/lib/python3.12/site-packages (from wsproto>=0.14->trio-websocket~=0.9->selenium) (0.14.0)\r\n",
      "Building wheels for collected packages: pygetwindow, pyrect\r\n",
      "  Building wheel for pygetwindow (pyproject.toml) ... \u001B[?25ldone\r\n",
      "\u001B[?25h  Created wheel for pygetwindow: filename=PyGetWindow-0.0.9-py3-none-any.whl size=11063 sha256=2c3365bfc3e286b896800f8895132e8289eb31ce1e31ea9d38f0d382b92e76d0\r\n",
      "  Stored in directory: /Users/arifrahman/Library/Caches/pip/wheels/b3/39/81/34dd7a2eca5f885f1f6e2796761970daf66a2d98ac1904f5f4\r\n",
      "  Building wheel for pyrect (pyproject.toml) ... \u001B[?25ldone\r\n",
      "\u001B[?25h  Created wheel for pyrect: filename=PyRect-0.2.0-py2.py3-none-any.whl size=11179 sha256=540058cd7d1377d7438861d7a260f4384710b0f21d156e1e39acc5dd4ad8f5f5\r\n",
      "  Stored in directory: /Users/arifrahman/Library/Caches/pip/wheels/0b/1e/d7/0c74bd8f60b39c14d84e307398786002aa7ddc905927cc03c5\r\n",
      "Successfully built pygetwindow pyrect\r\n",
      "Installing collected packages: pyrect, pygetwindow\r\n",
      "Successfully installed pygetwindow-0.0.9 pyrect-0.2.0\r\n"
     ]
    }
   ],
   "execution_count": 54
  },
  {
   "cell_type": "code",
   "metadata": {
    "ExecuteTime": {
     "end_time": "2024-06-08T03:18:30.631828Z",
     "start_time": "2024-06-08T03:18:30.520722Z"
    }
   },
   "source": [
    "# Connect to MongoDB\n",
    "client = MongoClient(MONGO_DB_URL)\n",
    "db = client['job_miner']\n",
    "collection = db['jobs_linkedin']\n",
    "\n"
   ],
   "outputs": [],
   "execution_count": 6
  },
  {
   "cell_type": "code",
   "metadata": {
    "ExecuteTime": {
     "end_time": "2024-06-08T03:18:31.056414Z",
     "start_time": "2024-06-08T03:18:31.054368Z"
    }
   },
   "source": [
    "# Define the base URL and number of pages to scrape\n",
    "base_url = 'https://www.linkedin.com/jobs/search/?keywords=data%20engineer&location=California%2C%20United%20States'\n",
    "num_pages = 2\n",
    "\n"
   ],
   "outputs": [],
   "execution_count": 7
  },
  {
   "cell_type": "code",
   "metadata": {
    "ExecuteTime": {
     "end_time": "2024-06-08T03:08:52.427895Z",
     "start_time": "2024-06-08T03:08:49.976073Z"
    }
   },
   "source": "driver.get(base_url)\n",
   "outputs": [],
   "execution_count": 117
  },
  {
   "cell_type": "code",
   "metadata": {
    "ExecuteTime": {
     "end_time": "2024-06-08T02:52:46.516110Z",
     "start_time": "2024-06-08T02:52:42.056391Z"
    }
   },
   "source": [
    "job_postings = driver.find_element(By.CLASS_NAME, 'jobs-search__results-list').find_elements(By.CLASS_NAME, 'base-card')\n",
    "\n",
    "\n",
    "for job in job_postings[:2]:\n",
    "    # print(job)\n",
    "    print(job.find_element(By.CSS_SELECTOR, 'h3.base-search-card__title').text)\n",
    "    print(job.find_element(By.CSS_SELECTOR, 'h4.base-search-card__subtitle').text)\n",
    "    print(job.find_element(By.CSS_SELECTOR, 'span.job-search-card__location').text)\n",
    "    print(job.find_element(By.CSS_SELECTOR, 'a.base-card__full-link').get_attribute('href'))\n",
    "    job.find_element(By.CSS_SELECTOR, 'a.base-card__full-link').click()\n",
    "    time.sleep(2)\n",
    "    print(driver.find_element(By.CSS_SELECTOR, 'div.description__text').text)\n",
    "    detail_sections = driver.find_elements(By.CSS_SELECTOR, 'li.description__job-criteria-item')\n",
    "    for section in detail_sections:\n",
    "        print(section.find_element(By.CSS_SELECTOR, 'h3.description__job-criteria-subheader').text)\n",
    "        print(section.find_element(By.CSS_SELECTOR, 'span.description__job-criteria-text').text)\n",
    "        \n",
    "        \n",
    "        \n",
    "            "
   ],
   "outputs": [
    {
     "name": "stdout",
     "output_type": "stream",
     "text": [
      "Data Engineer (L5)- Business Intelligence\n",
      "Netflix\n",
      "Los Gatos, CA\n",
      "https://www.linkedin.com/jobs/view/data-engineer-l5-business-intelligence-at-netflix-3939132186?position=1&pageNum=0&refId=99pOCydF4uUGUe6nc7qcQQ%3D%3D&trackingId=g5pRTEpTEURAm3492ZDABw%3D%3D&trk=public_jobs_jserp-result_search-card\n",
      "At Netflix, our mission is to entertain the world. With 200+ million paid members in over 190 countries on millions of devices; enjoying TV series, documentaries, and feature films across a wide variety of genres and languages - Netflix is reinventing entertainment from end to end. We are revolutionizing how shows and movies are produced, pushing technological boundaries to efficiently deliver streaming video at a massive scale over the internet, and continuously improving the end-to-end user experience with Netflix across their member journey.\n",
      "\n",
      "We pride ourselves on using data to inform our decision-making as we work towards our mission. This requires curating data across various domains, such as Growth, Finance, Product, Content, and Studio. All of this data collection and curation is made possible thanks to Netflix's amazing Data Engineers, who bring this data to life.\n",
      "\n",
      "Data Engineering at Netflix is a role that requires building systems to process data efficiently and modeling the data to power analytics. These solutions can range from batch data pipelines that bring to life business metrics to real-time processing services that integrate with our core product features. In addition, we require our Data Engineers to have a rich understanding of large distributed systems on which our data solutions rely. Candidates should have knowledge across several of these skill sets and usually need to be deep in at least one. As a Data Engineer, you also need to have strong communication skills since you will need to collaborate with business, engineering, and data science teams to enable a culture of learning. Learn more about the work of data engineers at Netflix.\n",
      "\n",
      "Who are you?\n",
      "\n",
      "\n",
      "\n",
      "\n",
      "\n",
      "Our compensation structure consists solely of an annual salary; we do not have bonuses. You choose each year how much of your compensation you want in salary versus stock options. To determine your personal top of market compensation, we rely on market indicators and consider your specific job family, background, skills, and experience to determine your compensation in the market range. The range for this role is $100,000 - $720,000.\n",
      "\n",
      "Netflix provides comprehensive benefits including Health Plans, Mental Health support, a 401(k) Retirement Plan with employer match, Stock Option Program, Disability Programs, Health Savings and Flexible Spending Accounts, Family-forming benefits, and Life and Serious Injury Benefits. We also offer paid leave of absence programs. Full-time hourly employees accrue 35 days annually for paid time off to be used for vacation, holidays, and sick paid time off. Full-time salaried employees are immediately entitled to flexible time off. See more detail about our Benefits here.\n",
      "\n",
      "Netflix is a unique culture and environment. Learn more here.\n",
      "\n",
      "We are an equal-opportunity employer and celebrate diversity, recognizing that diversity of thought and background builds stronger teams. We approach diversity and inclusion seriously and thoughtfully. We do not discriminate on the basis of race, religion, color, ancestry, national origin, caste, sex, sexual orientation, gender, gender identity or expression, age, disability, medical condition, pregnancy, genetic makeup, marital status, or military service.\n",
      "Show more\n",
      "Seniority level\n",
      "Not Applicable\n",
      "Employment type\n",
      "Full-time\n",
      "Job function\n",
      "Information Technology\n",
      "Industries\n",
      "Entertainment Providers, Technology, Information and Internet, and Movies, Videos, and Sound\n",
      "Data Engineer (L5) - CKG\n",
      "Netflix\n",
      "Los Angeles, CA\n",
      "https://www.linkedin.com/jobs/view/data-engineer-l5-ckg-at-netflix-3812478937?position=2&pageNum=0&refId=99pOCydF4uUGUe6nc7qcQQ%3D%3D&trackingId=jUv5aWi%2F8BZiDTbZP73m4g%3D%3D&trk=public_jobs_jserp-result_search-card\n",
      "Netflix is the world's leading internet streaming service with over 250 million members in 190 countries. Our members enjoy a wide variety of streamed videos per day, using over 1000 types of devices, generating more than a third of downstream Internet traffic in North America. The Content Knowledge Graph team within Data Science & Engineering equips scientists, engineers, and business executives with a global understanding of the entertainment industry “on & off-service”. Our flagship product is the Netflix KG (“Hitch”), a data and analytics foundational layer, that is a data pillar for 100s of diverse use cases across Netflix: from enabling content and marketing business executives to make better data-driven decisions to equipping AI/ML scientists with signals that power billions of daily predictions, to providing key inputs to engineering teams building business-critical applications. Hitch is a foundation for innovation that is helping to fuel Netflix’s long-term growth.\n",
      "\n",
      "We are looking for a Data Engineer to own and scale our data quality system while supporting high-visibility data pipelines and products. As part of this team, you will work on a diverse tech stack to build insightful, scalable, and robust data systems that describe the entities, interactions, and usage patterns across the Netflix Knowledge Graph.\n",
      "\n",
      "The ideal candidate will have a strong background in distributed data processing, demonstrate strong data intuition and analytical thinking, and share our passion for continuously improving the reliability and trust in Hitch.\n",
      "\n",
      "\n",
      "\n",
      "\n",
      "\n",
      "\n",
      "\n",
      "\n",
      "\n",
      "\n",
      "\n",
      "\n",
      "\n",
      "\n",
      "\n",
      "Our compensation structure consists solely of an annual salary; we do not have bonuses. You choose each year how much of your compensation you want in salary versus stock options. To determine your personal top of market compensation, we rely on market indicators and consider your specific job family, background, skills, and experience to determine your compensation in the market range. The range for this role is $170,000 - $720,000.\n",
      "\n",
      "Netflix provides comprehensive benefits including Health Plans, Mental Health support, a 401(k) Retirement Plan with employer match, Stock Option Program, Disability Programs, Health Savings and Flexible Spending Accounts, Family-forming benefits, and Life and Serious Injury Benefits. We also offer paid leave of absence programs. Full-time hourly employees accrue 35 days annually for paid time off to be used for vacation, holidays, and sick paid time off. Full-time salaried employees are immediately entitled to flexible time off. See more detail about our Benefits here.\n",
      "\n",
      "Netflix is a unique culture and environment. Learn more here.\n",
      "\n",
      "We are an equal-opportunity employer and celebrate diversity, recognizing that diversity of thought and background builds stronger teams. We approach diversity and inclusion seriously and thoughtfully. We do not discriminate on the basis of race, religion, color, ancestry, national origin, caste, sex, sexual orientation, gender, gender identity or expression, age, disability, medical condition, pregnancy, genetic makeup, marital status, or military service.\n",
      "Show more\n",
      "Seniority level\n",
      "Not Applicable\n",
      "Employment type\n",
      "Full-time\n",
      "Job function\n",
      "Information Technology\n",
      "Industries\n",
      "Entertainment Providers, Technology, Information and Internet, and Movies, Videos, and Sound\n"
     ]
    }
   ],
   "execution_count": 108
  },
  {
   "metadata": {
    "ExecuteTime": {
     "end_time": "2024-06-08T01:37:49.030792Z",
     "start_time": "2024-06-08T01:37:48.978438Z"
    }
   },
   "cell_type": "code",
   "source": [
    "print(driver.find_element(By.CSS_SELECTOR, 'div.compensation__salary-range').find_element(By.CSS_SELECTOR, 'h3.compensation__heading').text)\n",
    "print(driver.find_element(By.CSS_SELECTOR, 'div.compensation__salary-range').find_element(By.CSS_SELECTOR, 'div.compensation__salary').text)"
   ],
   "outputs": [
    {
     "name": "stdout",
     "output_type": "stream",
     "text": [
      "Base pay range\n",
      "$170,000.00/yr - $720,000.00/yr\n"
     ]
    }
   ],
   "execution_count": 92
  },
  {
   "cell_type": "code",
   "metadata": {
    "ExecuteTime": {
     "end_time": "2024-06-08T03:26:30.935402Z",
     "start_time": "2024-06-08T03:24:47.025834Z"
    }
   },
   "source": [
    "import json\n",
    "\n",
    "for page in range(num_pages):\n",
    "    url = f'{base_url}&start={page * 25}'\n",
    "    driver.get(url)\n",
    "    SleepHelper.random_sleep(12, 2)  # wait for the page to load\n",
    "\n",
    "    # Find all job postings\n",
    "    job_postings = driver.find_element(By.CLASS_NAME, 'jobs-search__results-list').find_elements(By.CLASS_NAME, 'base-card')\n",
    "\n",
    "    # Extract information from each job posting\n",
    "    for job in job_postings:\n",
    "        try:\n",
    "            # Extract job title\n",
    "            title_elem = job.find_element(By.CSS_SELECTOR, 'h3.base-search-card__title')\n",
    "            title = title_elem.text.strip() if title_elem else 'N/A'\n",
    "\n",
    "            # Extract company name    \n",
    "            company_elem = job.find_element(By.CSS_SELECTOR, 'h4.base-search-card__subtitle')\n",
    "            company = company_elem.text.strip() if company_elem else 'N/A'\n",
    "\n",
    "            # Extract job location\n",
    "            location_elem = job.find_element(By.CSS_SELECTOR, 'span.job-search-card__location')\n",
    "            location = location_elem.text.strip() if location_elem else 'N/A'\n",
    "\n",
    "            # Extract job link\n",
    "            joblink_elem = job.find_element(By.CSS_SELECTOR, 'a.base-card__full-link')\n",
    "            joblink = joblink_elem.get_attribute('href').strip() if joblink_elem else 'N/A'\n",
    "\n",
    "            # Click on the job link to get detailed information\n",
    "            joblink_elem.click()\n",
    "            SleepHelper.random_sleep(12, 2)  # wait for the job detail page to load\n",
    "\n",
    "            # # Switch to the job detail window\n",
    "            # driver.switch_to.window(driver.window_handles[1])\n",
    "\n",
    "            # Extract job description\n",
    "            description_elem = driver.find_element(By.CSS_SELECTOR, 'div.description__text')\n",
    "            description = description_elem.text.strip() if description_elem else 'N/A'\n",
    "\n",
    "            # Extract job details (e.g., salary, employment type, etc.)\n",
    "            detail_sections = driver.find_elements(By.CSS_SELECTOR, 'li.description__job-criteria-item')\n",
    "            details = {}\n",
    "            \n",
    "            key_elem = driver.find_element(By.CSS_SELECTOR, 'div.compensation__salary-range').find_element(By.CSS_SELECTOR, 'h3.compensation__heading')\n",
    "            value_elem = driver.find_element(By.CSS_SELECTOR, 'div.compensation__salary-range').find_element(By.CSS_SELECTOR, 'div.compensation__salary')\n",
    "            key = key_elem.text.strip() if key_elem else 'N/A'\n",
    "            value = value_elem.text.strip() if value_elem else 'N/A'\n",
    "            details[key] = value\n",
    "            \n",
    "            for section in detail_sections:\n",
    "                key_elem = section.find_element(By.CSS_SELECTOR, 'h3.description__job-criteria-subheader')\n",
    "                value_elem = section.find_element(By.CSS_SELECTOR, 'span.description__job-criteria-text')\n",
    "                key = key_elem.text.strip() if key_elem else 'N/A'\n",
    "                value = value_elem.text.strip() if value_elem else 'N/A'\n",
    "                details[key] = value\n",
    "\n",
    "            # Print job information\n",
    "            # print(f'Job Title: {title}')\n",
    "            # print(f'Company: {company}')\n",
    "            # print(f'Location: {location}')\n",
    "            # print(f'Job Link: {joblink}')\n",
    "            # print(f'Details: {details}')\n",
    "            # print(f'Description: {description}')\n",
    "            # print('-' * 40)\n",
    "\n",
    "            # Create a dictionary to store the job data\n",
    "            job_data = {\n",
    "                'title': title,\n",
    "                'company': company,\n",
    "                'location': location,\n",
    "                'job_link': joblink,\n",
    "                'details': details,\n",
    "                'description': description\n",
    "            }\n",
    "            \n",
    "            print(json.dumps(job_data, indent=4))\n",
    "            print('-' * 40)\n",
    "            \n",
    "            # Insert the job data into MongoDB\n",
    "            collection.insert_one(job_data)\n",
    "\n",
    "            # # Close the job detail window and switch back to the main window\n",
    "            # driver.close()\n",
    "            # driver.switch_to.window(driver.window_handles[0])\n",
    "\n",
    "        except Exception as e:\n",
    "            print(f\"Error processing job: {e}\")\n",
    "            continue\n",
    "\n"
   ],
   "outputs": [
    {
     "name": "stdout",
     "output_type": "stream",
     "text": [
      "sleep time: 11.552535027106208\n",
      "sleep time: 15.38186519102215\n",
      "{\n",
      "    \"title\": \"Data Engineer (L5)- Business Intelligence\",\n",
      "    \"company\": \"Netflix\",\n",
      "    \"location\": \"Los Gatos, CA\",\n",
      "    \"job_link\": \"https://www.linkedin.com/jobs/view/data-engineer-l5-business-intelligence-at-netflix-3939132186?position=1&pageNum=0&refId=uUdo4%2Bsi7QYYe19JoWPYiA%3D%3D&trackingId=hfA6tzcW7sgBwLvNxiJhTA%3D%3D&trk=public_jobs_jserp-result_search-card\",\n",
      "    \"details\": {\n",
      "        \"Base pay range\": \"$100,000.00/yr - $720,000.00/yr\",\n",
      "        \"Seniority level\": \"Not Applicable\",\n",
      "        \"Employment type\": \"Full-time\",\n",
      "        \"Job function\": \"Information Technology\",\n",
      "        \"Industries\": \"Entertainment Providers, Technology, Information and Internet, and Movies, Videos, and Sound\"\n",
      "    },\n",
      "    \"description\": \"At Netflix, our mission is to entertain the world. With 200+ million paid members in over 190 countries on millions of devices; enjoying TV series, documentaries, and feature films across a wide variety of genres and languages - Netflix is reinventing entertainment from end to end. We are revolutionizing how shows and movies are produced, pushing technological boundaries to efficiently deliver streaming video at a massive scale over the internet, and continuously improving the end-to-end user experience with Netflix across their member journey.\\n\\nWe pride ourselves on using data to inform our decision-making as we work towards our mission. This requires curating data across various domains, such as Growth, Finance, Product, Content, and Studio. All of this data collection and curation is made possible thanks to Netflix's amazing Data Engineers, who bring this data to life.\\n\\nData Engineering at Netflix is a role that requires building systems to process data efficiently and modeling the data to power analytics. These solutions can range from batch data pipelines that bring to life business metrics to real-time processing services that integrate with our core product features. In addition, we require our Data Engineers to have a rich understanding of large distributed systems on which our data solutions rely. Candidates should have knowledge across several of these skill sets and usually need to be deep in at least one. As a Data Engineer, you also need to have strong communication skills since you will need to collaborate with business, engineering, and data science teams to enable a culture of learning. Learn more about the work of data engineers at Netflix.\\n\\nWho are you?\\n\\n\\n\\n\\n\\nOur compensation structure consists solely of an annual salary; we do not have bonuses. You choose each year how much of your compensation you want in salary versus stock options. To determine your personal top of market compensation, we rely on market indicators and consider your specific job family, background, skills, and experience to determine your compensation in the market range. The range for this role is $100,000 - $720,000.\\n\\nNetflix provides comprehensive benefits including Health Plans, Mental Health support, a 401(k) Retirement Plan with employer match, Stock Option Program, Disability Programs, Health Savings and Flexible Spending Accounts, Family-forming benefits, and Life and Serious Injury Benefits. We also offer paid leave of absence programs. Full-time hourly employees accrue 35 days annually for paid time off to be used for vacation, holidays, and sick paid time off. Full-time salaried employees are immediately entitled to flexible time off. See more detail about our Benefits here.\\n\\nNetflix is a unique culture and environment. Learn more here.\\n\\nWe are an equal-opportunity employer and celebrate diversity, recognizing that diversity of thought and background builds stronger teams. We approach diversity and inclusion seriously and thoughtfully. We do not discriminate on the basis of race, religion, color, ancestry, national origin, caste, sex, sexual orientation, gender, gender identity or expression, age, disability, medical condition, pregnancy, genetic makeup, marital status, or military service.\\nShow more\"\n",
      "}\n",
      "----------------------------------------\n",
      "sleep time: 15.507592368078145\n",
      "{\n",
      "    \"title\": \"Data Engineer (L5) - CKG\",\n",
      "    \"company\": \"Netflix\",\n",
      "    \"location\": \"Los Angeles, CA\",\n",
      "    \"job_link\": \"https://www.linkedin.com/jobs/view/data-engineer-l5-ckg-at-netflix-3812478937?position=2&pageNum=0&refId=uUdo4%2Bsi7QYYe19JoWPYiA%3D%3D&trackingId=EUrjjVPTlKfl%2BCOHk9JsaQ%3D%3D&trk=public_jobs_jserp-result_search-card\",\n",
      "    \"details\": {\n",
      "        \"Base pay range\": \"$170,000.00/yr - $720,000.00/yr\",\n",
      "        \"Seniority level\": \"Not Applicable\",\n",
      "        \"Employment type\": \"Full-time\",\n",
      "        \"Job function\": \"Information Technology\",\n",
      "        \"Industries\": \"Entertainment Providers, Technology, Information and Internet, and Movies, Videos, and Sound\"\n",
      "    },\n",
      "    \"description\": \"Netflix is the world's leading internet streaming service with over 250 million members in 190 countries. Our members enjoy a wide variety of streamed videos per day, using over 1000 types of devices, generating more than a third of downstream Internet traffic in North America. The Content Knowledge Graph team within Data Science & Engineering equips scientists, engineers, and business executives with a global understanding of the entertainment industry \\u201con & off-service\\u201d. Our flagship product is the Netflix KG (\\u201cHitch\\u201d), a data and analytics foundational layer, that is a data pillar for 100s of diverse use cases across Netflix: from enabling content and marketing business executives to make better data-driven decisions to equipping AI/ML scientists with signals that power billions of daily predictions, to providing key inputs to engineering teams building business-critical applications. Hitch is a foundation for innovation that is helping to fuel Netflix\\u2019s long-term growth.\\n\\nWe are looking for a Data Engineer to own and scale our data quality system while supporting high-visibility data pipelines and products. As part of this team, you will work on a diverse tech stack to build insightful, scalable, and robust data systems that describe the entities, interactions, and usage patterns across the Netflix Knowledge Graph.\\n\\nThe ideal candidate will have a strong background in distributed data processing, demonstrate strong data intuition and analytical thinking, and share our passion for continuously improving the reliability and trust in Hitch.\\n\\n\\n\\n\\n\\n\\n\\n\\n\\n\\n\\n\\n\\n\\n\\nOur compensation structure consists solely of an annual salary; we do not have bonuses. You choose each year how much of your compensation you want in salary versus stock options. To determine your personal top of market compensation, we rely on market indicators and consider your specific job family, background, skills, and experience to determine your compensation in the market range. The range for this role is $170,000 - $720,000.\\n\\nNetflix provides comprehensive benefits including Health Plans, Mental Health support, a 401(k) Retirement Plan with employer match, Stock Option Program, Disability Programs, Health Savings and Flexible Spending Accounts, Family-forming benefits, and Life and Serious Injury Benefits. We also offer paid leave of absence programs. Full-time hourly employees accrue 35 days annually for paid time off to be used for vacation, holidays, and sick paid time off. Full-time salaried employees are immediately entitled to flexible time off. See more detail about our Benefits here.\\n\\nNetflix is a unique culture and environment. Learn more here.\\n\\nWe are an equal-opportunity employer and celebrate diversity, recognizing that diversity of thought and background builds stronger teams. We approach diversity and inclusion seriously and thoughtfully. We do not discriminate on the basis of race, religion, color, ancestry, national origin, caste, sex, sexual orientation, gender, gender identity or expression, age, disability, medical condition, pregnancy, genetic makeup, marital status, or military service.\\nShow more\"\n",
      "}\n",
      "----------------------------------------\n",
      "sleep time: 13.281446925685767\n",
      "{\n",
      "    \"title\": \"Data Engineer\",\n",
      "    \"company\": \"Lyft\",\n",
      "    \"location\": \"San Francisco County, CA\",\n",
      "    \"job_link\": \"https://www.linkedin.com/jobs/view/data-engineer-at-lyft-3908051589?position=3&pageNum=0&refId=uUdo4%2Bsi7QYYe19JoWPYiA%3D%3D&trackingId=2GblQFmnrGEmg%2FP3fCNWyQ%3D%3D&trk=public_jobs_jserp-result_search-card\",\n",
      "    \"details\": {\n",
      "        \"Base pay range\": \"$144,000.00/yr - $180,000.00/yr\",\n",
      "        \"Seniority level\": \"Mid-Senior level\",\n",
      "        \"Employment type\": \"Full-time\",\n",
      "        \"Job function\": \"Information Technology\",\n",
      "        \"Industries\": \"Ground Passenger Transportation\"\n",
      "    },\n",
      "    \"description\": \"Lyft thrives on community\\u2014it's the essence of who we are and what we do. Our commitment to fostering an open, inclusive, and diverse environment is paramount, ensuring every team member is valued for their unique contributions.\\n\\nAt Lyft, data isn't just part of our decision-making process; it's the foundation. It drives our ability to deliver exceptional transportation experiences and offers insights into the impact of our product launches and features.\\n\\nJoining Lyft as a Data Engineer means becoming a pivotal part of a team dedicated to shaping the future of transportation. You'll be tasked with developing robust data infrastructure\\u2014encompassing data transport, collection, and storage\\u2014and providing services that enable our leadership to make informed, risk-reducing decisions. We're in search of a Data Engineer to construct a scalable insurance data pipeline that will inform our financial strategies. Collaborating closely with our claims engineering, actuarial, and science teams, as well as our insurance partners, you'll lead the charge from technical proposal to final implementation. This role involves clear communication of technical challenges to both our internal teams and external partners, ensuring a cohesive approach to problem-solving.\\n\\nAs the steward of our core data pipeline, which underpins Lyft's key metrics, you'll leverage your data expertise to refine data models and spearhead the creation and launch of scalable data pipelines. These efforts will support Lyft's expanding needs in insurance data processing and analytics, providing critical business and user behavior insights. With access to vast amounts of Lyft data, your work will empower teams across Analytics, Data Science, Engineering, and beyond, driving innovation and growth.\\n\\n\\n\\n\\n\\n\\n\\n\\n\\n\\n\\n\\n\\n\\n\\n\\n\\nShow more\"\n",
      "}\n",
      "----------------------------------------\n",
      "sleep time: 11.223989257523613\n",
      "{\n",
      "    \"title\": \"Data Engineer, Analytics\",\n",
      "    \"company\": \"Meta\",\n",
      "    \"location\": \"Burlingame, CA\",\n",
      "    \"job_link\": \"https://www.linkedin.com/jobs/view/data-engineer-analytics-at-meta-3812923892?position=4&pageNum=0&refId=uUdo4%2Bsi7QYYe19JoWPYiA%3D%3D&trackingId=Bl0ukMxcc%2BNX7bA8YBsTdA%3D%3D&trk=public_jobs_jserp-result_search-card\",\n",
      "    \"details\": {\n",
      "        \"Base pay range\": \"$96,990.00/yr - $134,000.00/yr\",\n",
      "        \"Seniority level\": \"Not Applicable\",\n",
      "        \"Employment type\": \"Full-time\",\n",
      "        \"Job function\": \"Information Technology\",\n",
      "        \"Industries\": \"Technology, Information and Internet\"\n",
      "    },\n",
      "    \"description\": \"Are you passionate about Facebook\\u2019s product, analytics and technology? The Analytics, Data Engineering team is looking for fast-moving analytics candidates and data junkies who want to make an impact. Our data warehouse team works very closely with Product Managers, Product Analysts and Internet Marketers to figure out ways to acquire new users, retain existing users and optimize user experience - all of this using massive amounts of data. In this role, you will see a direct link between your work, company growth, and user satisfaction. You will work with some of the brightest minds in the industry, and you'll have the opportunity to solve some of the most challenging business problems on the web and mobile Internet, at a scale that few companies can match.\\n\\nData Engineer, Analytics Responsibilities:\\n\\n\\n\\nMinimum Qualifications:\\n\\n\\n\\nPreferred Qualifications:\\n\\n\\n\\nAbout Meta:\\n\\nMeta builds technologies that help people connect, find communities, and grow businesses. When Facebook launched in 2004, it changed the way people connect. Apps like Messenger, Instagram and WhatsApp further empowered billions around the world. Now, Meta is moving beyond 2D screens toward immersive experiences like augmented and virtual reality to help build the next evolution in social technology. People who choose to build their careers by building with us at Meta help shape a future that will take us beyond what digital connection makes possible today\\u2014beyond the constraints of screens, the limits of distance, and even the rules of physics.\\n\\nMeta is proud to be an Equal Employment Opportunity and Affirmative Action employer. We do not discriminate based upon race, religion, color, national origin, sex (including pregnancy, childbirth, or related medical conditions), sexual orientation, gender, gender identity, gender expression, transgender status, sexual stereotypes, age, status as a protected veteran, status as an individual with a disability, or other applicable legally protected characteristics. We also consider qualified applicants with criminal histories, consistent with applicable federal, state and local law. Meta participates in the E-Verify program in certain locations, as required by law. Please note that Meta may leverage artificial intelligence and machine learning technologies in connection with applications for employment.\\n\\nMeta is committed to providing reasonable accommodations for candidates with disabilities in our recruiting process. If you need any assistance or accommodations due to a disability, please let us know at accommodations-ext@fb.com.\\nShow more\"\n",
      "}\n",
      "----------------------------------------\n",
      "sleep time: 12.162917802882067\n",
      "{\n",
      "    \"title\": \"Data Engineer\",\n",
      "    \"company\": \"Notion\",\n",
      "    \"location\": \"San Francisco, CA\",\n",
      "    \"job_link\": \"https://www.linkedin.com/jobs/view/data-engineer-at-notion-3935371076?position=5&pageNum=0&refId=uUdo4%2Bsi7QYYe19JoWPYiA%3D%3D&trackingId=rlK0tkVvNtQM0cvQcVJGGQ%3D%3D&trk=public_jobs_jserp-result_search-card\",\n",
      "    \"details\": {\n",
      "        \"Base pay range\": \"$170,000.00/yr - $235,000.00/yr\",\n",
      "        \"Seniority level\": \"Not Applicable\",\n",
      "        \"Employment type\": \"Full-time\",\n",
      "        \"Job function\": \"Information Technology\",\n",
      "        \"Industries\": \"Software Development\"\n",
      "    },\n",
      "    \"description\": \"About Us\\n\\nWe're on a mission to make it possible for every person, team, and company to be able to tailor their software to solve any problem and take on any challenge. Computers may be our most powerful tools, but most of us can't build or modify the software we use on them every day. At Notion, we want to change this with focus, design, and craft.\\n\\nWe've been working on this together since 2016, and have customers like Pixar, Mitsubishi, Figma, Plaid, Match Group, and thousands more on this journey with us. Today, we're growing fast and excited for new teammates to join us who are the best at what they do. We're passionate about building a company as diverse and creative as the millions of people Notion reaches worldwide.\\n\\nNotion is an in-person company, and currently requires its employees to come to the office for two Anchor Days (Mondays & Thursdays) and requests that employees spend the majority of their week in the office (including a third day).\\n\\n\\n\\nAs Notion continues to grow rapidly, we're seeking talented data engineers to join our team and help us build foundational datasets and pipelines, as well as the infrastructure that supports them. Your work will accelerate the decision-making process of key product and business functions. If you're passionate about analytics use cases, data models, and solving complex data problems, then this is the team for you!\\n\\n\\n\\n\\n\\n\\n\\n\\n\\n\\n\\n\\n\\n\\n\\n\\nWe hire talented and passionate people from a variety of backgrounds because we want our global employee base to represent the wide diversity of our customers. If you\\u2019re excited about a role but your past experience doesn\\u2019t align perfectly with every bullet point listed in the job description, we still encourage you to apply. If you\\u2019re a builder at heart, share our company values, and enthusiastic about making software toolmaking ubiquitous, we want to hear from you.\\n\\nNotion is proud to be an equal opportunity employer. We do not discriminate in hiring or any employment decision based on race, color, religion, national origin, age, sex (including pregnancy, childbirth, or related medical conditions), marital status, ancestry, physical or mental disability, genetic information, veteran status, gender identity or expression, sexual orientation, or other applicable legally protected characteristic. Notion considers qualified applicants with criminal histories, consistent with applicable federal, state and local law. Notion is also committed to providing reasonable accommodations for qualified individuals with disabilities and disabled veterans in our job application procedures. If you need assistance or an accommodation due to a disability, please let your recruiter know.\\n\\nNotion is committed to providing highly competitive cash compensation, equity, and benefits. The compensation offered for this role will be based on multiple factors such as location, the role\\u2019s scope and complexity, and the candidate\\u2019s experience and expertise, and may vary from the range provided below. For roles based in San Francisco or New York City, the estimated base salary range for this role is $170,000 - $235,000 per year.\\n\\nShow more\"\n",
      "}\n",
      "----------------------------------------\n",
      "sleep time: 12.14033617169057\n",
      "{\n",
      "    \"title\": \"Data Engineer, Analytics\",\n",
      "    \"company\": \"Meta\",\n",
      "    \"location\": \"Menlo Park, CA\",\n",
      "    \"job_link\": \"https://www.linkedin.com/jobs/view/data-engineer-analytics-at-meta-3812925746?position=6&pageNum=0&refId=uUdo4%2Bsi7QYYe19JoWPYiA%3D%3D&trackingId=M6mwTGBGeSkgL4e%2B1hktRA%3D%3D&trk=public_jobs_jserp-result_search-card\",\n",
      "    \"details\": {\n",
      "        \"Base pay range\": \"$96,990.00/yr - $134,000.00/yr\",\n",
      "        \"Seniority level\": \"Not Applicable\",\n",
      "        \"Employment type\": \"Full-time\",\n",
      "        \"Job function\": \"Information Technology\",\n",
      "        \"Industries\": \"Technology, Information and Internet\"\n",
      "    },\n",
      "    \"description\": \"Are you passionate about Facebook\\u2019s product, analytics and technology? The Analytics, Data Engineering team is looking for fast-moving analytics candidates and data junkies who want to make an impact. Our data warehouse team works very closely with Product Managers, Product Analysts and Internet Marketers to figure out ways to acquire new users, retain existing users and optimize user experience - all of this using massive amounts of data. In this role, you will see a direct link between your work, company growth, and user satisfaction. You will work with some of the brightest minds in the industry, and you'll have the opportunity to solve some of the most challenging business problems on the web and mobile Internet, at a scale that few companies can match.\\n\\nData Engineer, Analytics Responsibilities:\\n\\n\\n\\nMinimum Qualifications:\\n\\n\\n\\nPreferred Qualifications:\\n\\n\\n\\nAbout Meta:\\n\\nMeta builds technologies that help people connect, find communities, and grow businesses. When Facebook launched in 2004, it changed the way people connect. Apps like Messenger, Instagram and WhatsApp further empowered billions around the world. Now, Meta is moving beyond 2D screens toward immersive experiences like augmented and virtual reality to help build the next evolution in social technology. People who choose to build their careers by building with us at Meta help shape a future that will take us beyond what digital connection makes possible today\\u2014beyond the constraints of screens, the limits of distance, and even the rules of physics.\\n\\nMeta is proud to be an Equal Employment Opportunity and Affirmative Action employer. We do not discriminate based upon race, religion, color, national origin, sex (including pregnancy, childbirth, or related medical conditions), sexual orientation, gender, gender identity, gender expression, transgender status, sexual stereotypes, age, status as a protected veteran, status as an individual with a disability, or other applicable legally protected characteristics. We also consider qualified applicants with criminal histories, consistent with applicable federal, state and local law. Meta participates in the E-Verify program in certain locations, as required by law. Please note that Meta may leverage artificial intelligence and machine learning technologies in connection with applications for employment.\\n\\nMeta is committed to providing reasonable accommodations for candidates with disabilities in our recruiting process. If you need any assistance or accommodations due to a disability, please let us know at accommodations-ext@fb.com.\\nShow more\"\n",
      "}\n",
      "----------------------------------------\n",
      "sleep time: 11.92711363808079\n"
     ]
    },
    {
     "ename": "KeyboardInterrupt",
     "evalue": "",
     "output_type": "error",
     "traceback": [
      "\u001B[0;31m---------------------------------------------------------------------------\u001B[0m",
      "\u001B[0;31mKeyboardInterrupt\u001B[0m                         Traceback (most recent call last)",
      "Cell \u001B[0;32mIn[11], line 32\u001B[0m\n\u001B[1;32m     30\u001B[0m \u001B[38;5;66;03m# Click on the job link to get detailed information\u001B[39;00m\n\u001B[1;32m     31\u001B[0m joblink_elem\u001B[38;5;241m.\u001B[39mclick()\n\u001B[0;32m---> 32\u001B[0m \u001B[43mSleepHelper\u001B[49m\u001B[38;5;241;43m.\u001B[39;49m\u001B[43mrandom_sleep\u001B[49m\u001B[43m(\u001B[49m\u001B[38;5;241;43m12\u001B[39;49m\u001B[43m,\u001B[49m\u001B[43m \u001B[49m\u001B[38;5;241;43m2\u001B[39;49m\u001B[43m)\u001B[49m  \u001B[38;5;66;03m# wait for the job detail page to load\u001B[39;00m\n\u001B[1;32m     34\u001B[0m \u001B[38;5;66;03m# # Switch to the job detail window\u001B[39;00m\n\u001B[1;32m     35\u001B[0m \u001B[38;5;66;03m# driver.switch_to.window(driver.window_handles[1])\u001B[39;00m\n\u001B[1;32m     36\u001B[0m \n\u001B[1;32m     37\u001B[0m \u001B[38;5;66;03m# Extract job description\u001B[39;00m\n\u001B[1;32m     38\u001B[0m description_elem \u001B[38;5;241m=\u001B[39m driver\u001B[38;5;241m.\u001B[39mfind_element(By\u001B[38;5;241m.\u001B[39mCSS_SELECTOR, \u001B[38;5;124m'\u001B[39m\u001B[38;5;124mdiv.description__text\u001B[39m\u001B[38;5;124m'\u001B[39m)\n",
      "File \u001B[0;32m~/Project/scraper/JobMiner/sleep_helper.py:12\u001B[0m, in \u001B[0;36mSleepHelper.random_sleep\u001B[0;34m(mean, sd)\u001B[0m\n\u001B[1;32m     10\u001B[0m \u001B[38;5;28;01mif\u001B[39;00m sleep_time \u001B[38;5;241m<\u001B[39m \u001B[38;5;241m0\u001B[39m:\n\u001B[1;32m     11\u001B[0m     sleep_time \u001B[38;5;241m=\u001B[39m \u001B[38;5;241m0\u001B[39m\n\u001B[0;32m---> 12\u001B[0m \u001B[43mtime\u001B[49m\u001B[38;5;241;43m.\u001B[39;49m\u001B[43msleep\u001B[49m\u001B[43m(\u001B[49m\u001B[43msleep_time\u001B[49m\u001B[43m)\u001B[49m\n",
      "\u001B[0;31mKeyboardInterrupt\u001B[0m: "
     ]
    }
   ],
   "execution_count": 11
  },
  {
   "cell_type": "code",
   "execution_count": null,
   "metadata": {},
   "outputs": [],
   "source": [
    "# Close the browser\n",
    "driver.quit()\n"
   ]
  }
 ],
 "metadata": {
  "kernelspec": {
   "display_name": ".venv",
   "language": "python",
   "name": "python3"
  },
  "language_info": {
   "codemirror_mode": {
    "name": "ipython",
    "version": 3
   },
   "file_extension": ".py",
   "mimetype": "text/x-python",
   "name": "python",
   "nbconvert_exporter": "python",
   "pygments_lexer": "ipython3",
   "version": "3.12.3"
  }
 },
 "nbformat": 4,
 "nbformat_minor": 2
}
